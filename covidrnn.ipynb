{
  "nbformat": 4,
  "nbformat_minor": 0,
  "metadata": {
    "colab": {
      "name": "covidrnn.ipynb",
      "provenance": [],
      "collapsed_sections": [],
      "authorship_tag": "ABX9TyOP9YQ+AfBTP4Fth7VVv4xg",
      "include_colab_link": true
    },
    "kernelspec": {
      "name": "python3",
      "display_name": "Python 3"
    },
    "accelerator": "GPU"
  },
  "cells": [
    {
      "cell_type": "markdown",
      "metadata": {
        "id": "view-in-github",
        "colab_type": "text"
      },
      "source": [
        "<a href=\"https://colab.research.google.com/github/shreytanwar/CovidPredictionRNN/blob/master/covidrnn.ipynb\" target=\"_parent\"><img src=\"https://colab.research.google.com/assets/colab-badge.svg\" alt=\"Open In Colab\"/></a>"
      ]
    },
    {
      "cell_type": "code",
      "metadata": {
        "id": "3Ts2cnfOMFVJ",
        "colab_type": "code",
        "colab": {}
      },
      "source": [
        "import numpy as np\n",
        "import pandas as pd\n",
        "from sklearn.preprocessing import MinMaxScaler\n",
        "from tqdm import tqdm\n",
        "import matplotlib.pyplot as plt\n",
        "from sklearn.metrics import r2_score"
      ],
      "execution_count": null,
      "outputs": []
    },
    {
      "cell_type": "code",
      "metadata": {
        "id": "EVOh-O_LhUBS",
        "colab_type": "code",
        "colab": {}
      },
      "source": [
        "  df=pd.read_csv('DataSet.csv')\n",
        "  df=df['new_cases']\n",
        "  \n",
        "  X = df.values\n",
        "  nan_x=np.isnan(X)\n",
        "  nan_x = ~nan_x\n",
        "\n",
        "  x=X[nan_x]\n",
        "\n",
        "  x=x.reshape(-1,1)"
      ],
      "execution_count": null,
      "outputs": []
    },
    {
      "cell_type": "code",
      "metadata": {
        "id": "Vcp8egonMUxP",
        "colab_type": "code",
        "colab": {
          "base_uri": "https://localhost:8080/",
          "height": 34
        },
        "outputId": "70b3c9db-6dc1-4d5c-a028-69aa53f235c0"
      },
      "source": [
        "scale = MinMaxScaler((0,1))\n",
        "x = scale.fit_transform(x)\n",
        "print(x.shape[0])"
      ],
      "execution_count": null,
      "outputs": [
        {
          "output_type": "stream",
          "text": [
            "239\n"
          ],
          "name": "stdout"
        }
      ]
    },
    {
      "cell_type": "code",
      "metadata": {
        "id": "kOKHMO_ZMU2L",
        "colab_type": "code",
        "colab": {
          "base_uri": "https://localhost:8080/",
          "height": 34
        },
        "outputId": "9146b833-a408-41d7-f5a3-32309fc5d1fb"
      },
      "source": [
        "x_new = []\n",
        "y_new = []\n",
        "for i in range(60,x.shape[0]):\n",
        "    x_new.append(x[i-60:i,0])\n",
        "    y_new.append(x[i,0])\n",
        "\n",
        "x_new = np.array(x_new)\n",
        "y_new = np.array(y_new)\n",
        "print(x_new.shape[0])"
      ],
      "execution_count": null,
      "outputs": [
        {
          "output_type": "stream",
          "text": [
            "179\n"
          ],
          "name": "stdout"
        }
      ]
    },
    {
      "cell_type": "code",
      "metadata": {
        "id": "_Q-uD_c8MU7D",
        "colab_type": "code",
        "colab": {
          "base_uri": "https://localhost:8080/",
          "height": 34
        },
        "outputId": "a659d8ca-a26a-40fc-dfa8-11b3e2d12abe"
      },
      "source": [
        "SPLIT = 0.1\n",
        "div = int(x_new.shape[0]*SPLIT)\n",
        "print(div)"
      ],
      "execution_count": null,
      "outputs": [
        {
          "output_type": "stream",
          "text": [
            "17\n"
          ],
          "name": "stdout"
        }
      ]
    },
    {
      "cell_type": "code",
      "metadata": {
        "id": "XGf3ASf7QRrT",
        "colab_type": "code",
        "colab": {
          "base_uri": "https://localhost:8080/",
          "height": 34
        },
        "outputId": "f040124d-a89b-494c-b82b-2b81df874e5f"
      },
      "source": [
        "x_train = x_new[:-div]\n",
        "y_train = y_new[:-div]\n",
        "\n",
        "x_test = x_new[-div:]\n",
        "y_test = y_new[-div:]\n",
        "\n",
        "print(x_train.shape,x_test.shape,y_train.shape,y_test.shape)"
      ],
      "execution_count": null,
      "outputs": [
        {
          "output_type": "stream",
          "text": [
            "(162, 60) (17, 60) (162,) (17,)\n"
          ],
          "name": "stdout"
        }
      ]
    },
    {
      "cell_type": "code",
      "metadata": {
        "id": "-PhqGproMU_f",
        "colab_type": "code",
        "colab": {}
      },
      "source": [
        "import torch\n",
        "import torch.nn as nn\n",
        "import torch.nn.functional as F\n",
        "import torch.optim as optim"
      ],
      "execution_count": null,
      "outputs": []
    },
    {
      "cell_type": "code",
      "metadata": {
        "id": "SDtM9B_1M4Z1",
        "colab_type": "code",
        "colab": {}
      },
      "source": [
        "input_dim = 60\n",
        "hidden_dim = 64\n",
        "\n",
        "class myLSTM(nn.Module):\n",
        "    def __init__(self):\n",
        "        super().__init__()\n",
        "        \n",
        "        self.l1 = nn.LSTM(input_dim,hidden_dim,batch_first=True,num_layers=1)\n",
        "        self.fc1 = nn.Linear(hidden_dim,1)\n",
        "    \n",
        "    def forward(self,x):\n",
        "        x = x.reshape(-1,1,input_dim)\n",
        "        # print(x.shape)\n",
        "        x,(hidden_state,cell_state) = self.l1(x)\n",
        "        # print(hidden_state.shape)\n",
        "        x = hidden_state[-1].reshape(-1,hidden_dim)\n",
        "        x = self.fc1(x)\n",
        "\n",
        "        return x"
      ],
      "execution_count": null,
      "outputs": []
    },
    {
      "cell_type": "code",
      "metadata": {
        "id": "oLKAMHYVOmO5",
        "colab_type": "code",
        "colab": {
          "base_uri": "https://localhost:8080/",
          "height": 34
        },
        "outputId": "d29c008f-04a6-4f0b-e4b7-714b0a42df31"
      },
      "source": [
        "device =  torch.device(\"cuda\" if torch.cuda.is_available() else 'cpu')\n",
        "device"
      ],
      "execution_count": null,
      "outputs": [
        {
          "output_type": "execute_result",
          "data": {
            "text/plain": [
              "device(type='cuda')"
            ]
          },
          "metadata": {
            "tags": []
          },
          "execution_count": 10
        }
      ]
    },
    {
      "cell_type": "code",
      "metadata": {
        "id": "LR4NHEOQQhPO",
        "colab_type": "code",
        "colab": {}
      },
      "source": [
        "model = myLSTM()\n",
        "lass = nn.MSELoss()\n",
        "optimizer = optim.Adam(model.parameters(),lr=0.0001)"
      ],
      "execution_count": null,
      "outputs": []
    },
    {
      "cell_type": "code",
      "metadata": {
        "id": "VtrjTmPdQeJ6",
        "colab_type": "code",
        "colab": {
          "base_uri": "https://localhost:8080/",
          "height": 151
        },
        "outputId": "2cc40fe1-aa80-48a9-cc9f-1389d1ce43ff"
      },
      "source": [
        "print(model)\n",
        "\n",
        "model.to(device)"
      ],
      "execution_count": null,
      "outputs": [
        {
          "output_type": "stream",
          "text": [
            "myLSTM(\n",
            "  (l1): LSTM(60, 64, batch_first=True)\n",
            "  (fc1): Linear(in_features=64, out_features=1, bias=True)\n",
            ")\n"
          ],
          "name": "stdout"
        },
        {
          "output_type": "execute_result",
          "data": {
            "text/plain": [
              "myLSTM(\n",
              "  (l1): LSTM(60, 64, batch_first=True)\n",
              "  (fc1): Linear(in_features=64, out_features=1, bias=True)\n",
              ")"
            ]
          },
          "metadata": {
            "tags": []
          },
          "execution_count": 26
        }
      ]
    },
    {
      "cell_type": "code",
      "metadata": {
        "id": "TQycRdqYQryX",
        "colab_type": "code",
        "colab": {}
      },
      "source": [
        "def training(x_train,y_train,x_test,y_test,epochs=180):\n",
        "    model.train()\n",
        "    x_train = torch.from_numpy(x_train).float().to(device)\n",
        "    y_train = torch.from_numpy(y_train).float().to(device)\n",
        "    x_test = torch.from_numpy(x_test).float().to(device)\n",
        "    y_test = torch.from_numpy(y_test).float().to(device)\n",
        "    training_loss = []\n",
        "    val_loss = []\n",
        "    \n",
        "\n",
        "    for epoch in tqdm(range(epochs)):\n",
        "            optimizer.zero_grad()\n",
        "\n",
        "            with torch.no_grad():\n",
        "              pred = model(x_test)\n",
        "              val_l = lass(pred.reshape(-1),y_test)\n",
        "              val_loss.append(val_l)\n",
        "\n",
        "            out = model(x_train)\n",
        "            out = out.reshape(-1)\n",
        "            loss = lass(out,y_train)\n",
        "            loss.backward()\n",
        "            optimizer.step()\n",
        "\n",
        "            training_loss.append(loss.item())\n",
        "            if epoch%5==0:\n",
        "                print(f\"epoch {epoch} loss => {loss.item()}\")\n",
        "    \n",
        "    return training_loss,val_loss"
      ],
      "execution_count": null,
      "outputs": []
    },
    {
      "cell_type": "code",
      "metadata": {
        "id": "fZQJhx2fQsaf",
        "colab_type": "code",
        "colab": {
          "base_uri": "https://localhost:8080/",
          "height": 638
        },
        "outputId": "cf35b2fc-0b40-4f44-9a8d-26b31de32c0c"
      },
      "source": [
        "train,val = training(x_train,y_train,x_test,y_test)"
      ],
      "execution_count": null,
      "outputs": [
        {
          "output_type": "stream",
          "text": [
            " 51%|█████     | 91/180 [00:00<00:00, 447.73it/s]"
          ],
          "name": "stderr"
        },
        {
          "output_type": "stream",
          "text": [
            "epoch 0 loss => 0.09054000675678253\n",
            "epoch 5 loss => 0.08725614845752716\n",
            "epoch 10 loss => 0.08403442800045013\n",
            "epoch 15 loss => 0.08087124675512314\n",
            "epoch 20 loss => 0.07776051014661789\n",
            "epoch 25 loss => 0.0746966078877449\n",
            "epoch 30 loss => 0.0716753676533699\n",
            "epoch 35 loss => 0.0686936229467392\n",
            "epoch 40 loss => 0.06574895977973938\n",
            "epoch 45 loss => 0.06283959746360779\n",
            "epoch 50 loss => 0.059964343905448914\n",
            "epoch 55 loss => 0.05712267383933067\n",
            "epoch 60 loss => 0.05431487411260605\n",
            "epoch 65 loss => 0.0515420101583004\n",
            "epoch 70 loss => 0.04880601540207863\n",
            "epoch 75 loss => 0.04610961303114891\n",
            "epoch 80 loss => 0.04345626011490822\n",
            "epoch 85 loss => 0.040850091725587845\n",
            "epoch 90 loss => 0.03829578682780266\n"
          ],
          "name": "stdout"
        },
        {
          "output_type": "stream",
          "text": [
            "100%|██████████| 180/180 [00:00<00:00, 441.59it/s]"
          ],
          "name": "stderr"
        },
        {
          "output_type": "stream",
          "text": [
            "epoch 95 loss => 0.03579849749803543\n",
            "epoch 100 loss => 0.0333636999130249\n",
            "epoch 105 loss => 0.030997127294540405\n",
            "epoch 110 loss => 0.028704572468996048\n",
            "epoch 115 loss => 0.02649182267487049\n",
            "epoch 120 loss => 0.024364471435546875\n",
            "epoch 125 loss => 0.02232782356441021\n",
            "epoch 130 loss => 0.02038675546646118\n",
            "epoch 135 loss => 0.018545588478446007\n",
            "epoch 140 loss => 0.016807960346341133\n",
            "epoch 145 loss => 0.015176757238805294\n",
            "epoch 150 loss => 0.013654003851115704\n",
            "epoch 155 loss => 0.012240808457136154\n",
            "epoch 160 loss => 0.010937308892607689\n",
            "epoch 165 loss => 0.009742661379277706\n",
            "epoch 170 loss => 0.008655037730932236\n",
            "epoch 175 loss => 0.007671653758734465\n"
          ],
          "name": "stdout"
        },
        {
          "output_type": "stream",
          "text": [
            "\n"
          ],
          "name": "stderr"
        }
      ]
    },
    {
      "cell_type": "code",
      "metadata": {
        "id": "mE7H75wsQuhz",
        "colab_type": "code",
        "colab": {
          "base_uri": "https://localhost:8080/",
          "height": 321
        },
        "outputId": "1a075978-c166-4109-b039-4dc61a049fac"
      },
      "source": [
        "plt.figure(figsize=(10,5))\n",
        "plt.plot(train,label='training loss')\n",
        "plt.plot(val,label='val loss')\n",
        "plt.legend()\n",
        "plt.show()\n"
      ],
      "execution_count": null,
      "outputs": [
        {
          "output_type": "display_data",
          "data": {
            "image/png": "[encoded data removed]",
            "text/plain": [
              "<Figure size 720x360 with 1 Axes>"
            ]
          },
          "metadata": {
            "tags": [],
            "needs_background": "light"
          }
        }
      ]
    },
    {
      "cell_type": "code",
      "metadata": {
        "id": "VUD82eDXSkJy",
        "colab_type": "code",
        "colab": {}
      },
      "source": [
        "def accuracy(X_test,Y_test):\n",
        "  x_test = torch.from_numpy(X_test).float().to(device)\n",
        "  y_test = torch.from_numpy(Y_test).float().to(device)\n",
        "  model.eval()\n",
        "  y_pred = model(x_test)\n",
        "  # print(y_test.shape,y_pred.shape)\n",
        "  return r2_score(y_test.cpu().detach(),y_pred.reshape(-1).cpu().detach()),y_pred"
      ],
      "execution_count": null,
      "outputs": []
    },
    {
      "cell_type": "code",
      "metadata": {
        "id": "ykeZXeYZSkun",
        "colab_type": "code",
        "colab": {
          "base_uri": "https://localhost:8080/",
          "height": 34
        },
        "outputId": "82930675-5d2e-4923-bea5-66595ae5405e"
      },
      "source": [
        "acc,y_pred = accuracy(x_train,y_train)\n",
        "print(acc)"
      ],
      "execution_count": null,
      "outputs": [
        {
          "output_type": "stream",
          "text": [
            "0.8880378135011998\n"
          ],
          "name": "stdout"
        }
      ]
    },
    {
      "cell_type": "code",
      "metadata": {
        "id": "iIf8pNyOSl8a",
        "colab_type": "code",
        "colab": {
          "base_uri": "https://localhost:8080/",
          "height": 609
        },
        "outputId": "d6427976-b23d-42fe-d026-e18ac5c690bf"
      },
      "source": [
        "plt.figure(figsize=(15,10))\n",
        "plt.plot(scale.inverse_transform(y_train.reshape(-1,1)))\n",
        "plt.plot(scale.inverse_transform(y_pred.cpu().detach().reshape(-1,1)))"
      ],
      "execution_count": null,
      "outputs": [
        {
          "output_type": "execute_result",
          "data": {
            "text/plain": [
              "[<matplotlib.lines.Line2D at 0x7f0c08033588>]"
            ]
          },
          "metadata": {
            "tags": []
          },
          "execution_count": 32
        },
        {
          "output_type": "display_data",
          "data": {
            "image/png": "[encoded data removed]",
            "text/plain": [
              "<Figure size 1080x720 with 1 Axes>"
            ]
          },
          "metadata": {
            "tags": [],
            "needs_background": "light"
          }
        }
      ]
    },
    {
      "cell_type": "code",
      "metadata": {
        "id": "AgFsrU8oSpUX",
        "colab_type": "code",
        "colab": {}
      },
      "source": [
        "x_train = torch.from_numpy(x_train).float().to(device)\n"
      ],
      "execution_count": null,
      "outputs": []
    },
    {
      "cell_type": "code",
      "metadata": {
        "id": "fGaWwt47kzTY",
        "colab_type": "code",
        "colab": {
          "base_uri": "https://localhost:8080/",
          "height": 34
        },
        "outputId": "7b5382be-8569-40dc-a2cd-de70c46d1cc2"
      },
      "source": [
        "x_train.shape"
      ],
      "execution_count": null,
      "outputs": [
        {
          "output_type": "execute_result",
          "data": {
            "text/plain": [
              "torch.Size([162, 60])"
            ]
          },
          "metadata": {
            "tags": []
          },
          "execution_count": 34
        }
      ]
    },
    {
      "cell_type": "code",
      "metadata": {
        "id": "Qy7TSgkwdGgu",
        "colab_type": "code",
        "colab": {
          "base_uri": "https://localhost:8080/",
          "height": 34
        },
        "outputId": "2e2f4ad6-ec39-48ba-cb8e-cfa3566a66d1"
      },
      "source": [
        "t=model(x_train[161])\n",
        "print(scale.inverse_transform(t.cpu().detach().reshape(-1,1)))\n"
      ],
      "execution_count": null,
      "outputs": [
        {
          "output_type": "stream",
          "text": [
            "[[50593.33642197]]\n"
          ],
          "name": "stdout"
        }
      ]
    },
    {
      "cell_type": "code",
      "metadata": {
        "id": "29VNxvEFk5hA",
        "colab_type": "code",
        "colab": {}
      },
      "source": [
        ""
      ],
      "execution_count": null,
      "outputs": []
    }
  ]
}